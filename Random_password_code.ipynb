{
 "cells": [
  {
   "cell_type": "raw",
   "id": "f697fdc1",
   "metadata": {},
   "source": [
    "Python program to generate a random strong password:\n",
    "\n",
    "- Minimum length 6 characters.\n",
    "\n",
    "- Maximum length 16 characters.\n",
    "\n",
    "- At least 1 letter between [a-z] and 1 letter between [A-Z].\n",
    "\n",
    "- At least 1 number between [0-9].\n",
    "\n",
    "- At least 1 character from [$#@].\n",
    "\n"
   ]
  },
  {
   "cell_type": "code",
   "execution_count": 23,
   "id": "69bef77f",
   "metadata": {},
   "outputs": [
    {
     "name": "stdout",
     "output_type": "stream",
     "text": [
      "@y8a8WwnEPb$dP\n"
     ]
    }
   ],
   "source": [
    "import random\n",
    "import string\n",
    "\n",
    "length = random.randrange(2,12)\n",
    "\n",
    "lower = string.ascii_lowercase \n",
    "\n",
    "upper = string.ascii_uppercase \n",
    "\n",
    "number = string.digits \n",
    "\n",
    "special_char = \"@#$\" \n",
    "\n",
    "all = lower + upper + number + special_char \n",
    "\n",
    "sample = \"\".join(random.sample(all,length)) \n",
    "\n",
    "char_list = [random.choice(special_char),\n",
    "            random.choice(lower),\n",
    "            random.choice(upper),\n",
    "            random.choice(number),\n",
    "            sample]\n",
    "\n",
    "random.shuffle(char_list) \n",
    "\n",
    "password = ''.join(char_list) \n",
    "\n",
    "print(password)"
   ]
  },
  {
   "cell_type": "code",
   "execution_count": null,
   "id": "45cb38f2",
   "metadata": {},
   "outputs": [],
   "source": []
  },
  {
   "cell_type": "code",
   "execution_count": null,
   "id": "1ef7f5e6",
   "metadata": {},
   "outputs": [],
   "source": []
  }
 ],
 "metadata": {
  "kernelspec": {
   "display_name": "Python 3",
   "language": "python",
   "name": "python3"
  },
  "language_info": {
   "codemirror_mode": {
    "name": "ipython",
    "version": 3
   },
   "file_extension": ".py",
   "mimetype": "text/x-python",
   "name": "python",
   "nbconvert_exporter": "python",
   "pygments_lexer": "ipython3",
   "version": "3.8.8"
  }
 },
 "nbformat": 4,
 "nbformat_minor": 5
}
